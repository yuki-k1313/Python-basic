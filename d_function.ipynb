{
 "cells": [
  {
   "cell_type": "markdown",
   "metadata": {},
   "source": [
    "##### 함수 : 실행할 코드를 미리 지정해두고 사용하는 것\n",
    "```python\n",
    "def 함수명(매개변수, ...):\n",
    "    실행할 구문\n",
    "    return 반환값\n",
    "```"
   ]
  },
  {
   "cell_type": "code",
   "execution_count": 19,
   "metadata": {},
   "outputs": [],
   "source": [
    "def check(number):\n",
    "    if number % 2 == 0: \n",
    "        return '짝수'\n",
    "    else:\n",
    "        return '홀수'"
   ]
  },
  {
   "cell_type": "code",
   "execution_count": 20,
   "metadata": {},
   "outputs": [
    {
     "data": {
      "text/plain": [
       "'홀수'"
      ]
     },
     "execution_count": 20,
     "metadata": {},
     "output_type": "execute_result"
    }
   ],
   "source": [
    "check(5)"
   ]
  },
  {
   "cell_type": "code",
   "execution_count": 21,
   "metadata": {},
   "outputs": [],
   "source": [
    "def check2(number):\n",
    "    # 삼항연산자\n",
    "    # 다른 언어들 - 조건표현식 ? 참일때결과 : 거짓일때결과\n",
    "    # 파이썬 - 참일때결과 if 조건표현식 else 거짓일때결과\n",
    "    return '짝수' if number % 2 == 0 else '홀수'"
   ]
  },
  {
   "cell_type": "code",
   "execution_count": 22,
   "metadata": {},
   "outputs": [
    {
     "data": {
      "text/plain": [
       "'홀수'"
      ]
     },
     "execution_count": 22,
     "metadata": {},
     "output_type": "execute_result"
    }
   ],
   "source": [
    "check2(5)"
   ]
  },
  {
   "cell_type": "markdown",
   "metadata": {},
   "source": [
    "##### 파이썬에서 함수의 반환값은 여러개를 반환할 수 있음\n",
    "```python\n",
    "def 함수명(매개변수, ...):\n",
    "    실행할 구문\n",
    "    return 반환값1, 반환값2\n",
    "```"
   ]
  },
  {
   "cell_type": "code",
   "execution_count": 23,
   "metadata": {},
   "outputs": [],
   "source": [
    "def calc(a, b):\n",
    "    plus = a + b\n",
    "    minus = a - b\n",
    "    return plus, minus"
   ]
  },
  {
   "cell_type": "markdown",
   "metadata": {},
   "source": []
  },
  {
   "cell_type": "code",
   "execution_count": 24,
   "metadata": {},
   "outputs": [
    {
     "data": {
      "text/plain": [
       "(15, 5)"
      ]
     },
     "execution_count": 24,
     "metadata": {},
     "output_type": "execute_result"
    }
   ],
   "source": [
    "calc(10, 5)"
   ]
  },
  {
   "cell_type": "markdown",
   "metadata": {},
   "source": [
    "### 람다함수\n",
    "이름없이 선언하여 바로 사용하는 함수  \n",
    "함수를 변수에 담아서 사용하는 용도로도 사용됨\n",
    "```python\n",
    "lambda 매개변수: 반환할 표현식\n",
    "```\n",
    "파이썬에서는 람다함수의 실행코드는 여러줄 작성 불가능"
   ]
  },
  {
   "cell_type": "code",
   "execution_count": 25,
   "metadata": {},
   "outputs": [],
   "source": [
    "lambda_check = lambda number: '짝수' if number % 2 == 0 else '홀수'"
   ]
  },
  {
   "cell_type": "code",
   "execution_count": 26,
   "metadata": {},
   "outputs": [
    {
     "data": {
      "text/plain": [
       "'홀수'"
      ]
     },
     "execution_count": 26,
     "metadata": {},
     "output_type": "execute_result"
    }
   ],
   "source": [
    "lambda_check(5)"
   ]
  },
  {
   "cell_type": "markdown",
   "metadata": {},
   "source": [
    "### 지역변수와 전역변수\n",
    "지역에서 선언된 변수는 지역 외부에서 사용이 불가능  \n",
    "지역에서 글로번 변수를 사용하고자 한다면 global 키워드로 특정 변수를 사용하겠다고 지정해야함"
   ]
  },
  {
   "cell_type": "code",
   "execution_count": 27,
   "metadata": {},
   "outputs": [
    {
     "data": {
      "text/plain": [
       "10"
      ]
     },
     "execution_count": 27,
     "metadata": {},
     "output_type": "execute_result"
    }
   ],
   "source": [
    "variable = 10 \n",
    "def func1():\n",
    "    # 회색은 사용되지 않는 다는걸 의미\n",
    "    variable = 99\n",
    "\n",
    "func1()\n",
    "variable"
   ]
  },
  {
   "cell_type": "code",
   "execution_count": 28,
   "metadata": {},
   "outputs": [
    {
     "data": {
      "text/plain": [
       "99"
      ]
     },
     "execution_count": 28,
     "metadata": {},
     "output_type": "execute_result"
    }
   ],
   "source": [
    "variable = 10\n",
    "\n",
    "def func2():\n",
    "    global variable\n",
    "    variable = 99\n",
    "\n",
    "func2()\n",
    "variable"
   ]
  }
 ],
 "metadata": {
  "kernelspec": {
   "display_name": "Python 3",
   "language": "python",
   "name": "python3"
  },
  "language_info": {
   "codemirror_mode": {
    "name": "ipython",
    "version": 3
   },
   "file_extension": ".py",
   "mimetype": "text/x-python",
   "name": "python",
   "nbconvert_exporter": "python",
   "pygments_lexer": "ipython3",
   "version": "3.13.1"
  }
 },
 "nbformat": 4,
 "nbformat_minor": 2
}
