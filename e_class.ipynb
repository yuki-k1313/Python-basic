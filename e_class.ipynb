{
 "cells": [
  {
   "cell_type": "markdown",
   "metadata": {},
   "source": [
    "### 클래스\n",
    "객체에 대한 정의  \n",
    "같은 속성 혹은 기능의 집합\n",
    "```python\n",
    "class 클래스명():\n",
    "    def __init__(self, 매개변수1, ...):\n",
    "        self.속성1 = 속성값1\n",
    "        ...\n",
    "    \n",
    "    def 메서드명(self):\n",
    "        ...\n",
    "```"
   ]
  },
  {
   "cell_type": "code",
   "execution_count": 5,
   "metadata": {},
   "outputs": [],
   "source": [
    "class Human():\n",
    "    def __init__(self, name, age):\n",
    "        self.name =  name\n",
    "        self.age = age\n",
    "\n",
    "    def greet(self):\n",
    "        print(f'{self.name}이 인사를 합니다.')\n"
   ]
  },
  {
   "cell_type": "markdown",
   "metadata": {},
   "source": [
    "##### 클래스의 인스턴스 생성\n",
    "```python\n",
    "변수 = 클래스명(매개변수, ...)\n",
    "```"
   ]
  },
  {
   "cell_type": "code",
   "execution_count": 6,
   "metadata": {},
   "outputs": [
    {
     "data": {
      "text/plain": [
       "<__main__.Human at 0x217354c8d70>"
      ]
     },
     "execution_count": 6,
     "metadata": {},
     "output_type": "execute_result"
    }
   ],
   "source": [
    "human1 = Human('홍길동', 20)\n",
    "human1"
   ]
  },
  {
   "cell_type": "code",
   "execution_count": 8,
   "metadata": {},
   "outputs": [
    {
     "data": {
      "text/plain": [
       "'홍길동'"
      ]
     },
     "execution_count": 8,
     "metadata": {},
     "output_type": "execute_result"
    }
   ],
   "source": [
    "human1.name"
   ]
  },
  {
   "cell_type": "code",
   "execution_count": 23,
   "metadata": {},
   "outputs": [
    {
     "name": "stdout",
     "output_type": "stream",
     "text": [
      "홍길동이 인사를 합니다.\n",
      "이도이 안녕하세요! 라며 인사합니다.\n"
     ]
    }
   ],
   "source": [
    "human1.greet()\n",
    "developer1.greet()"
   ]
  },
  {
   "cell_type": "markdown",
   "metadata": {},
   "source": [
    "##### 클래스 상속\n",
    "이미 정의된 클래스를 재사용하는 기법  \n",
    "코드 재사용성을 높여서 코드 중복 제거, 유지보수성을 향상\n",
    "```python\n",
    "class 클래스명(부모클래스):\n",
    "    def __init__(self, 매개변수...):\n",
    "        super(자식클래스명, self).__init__(매개변수...)\n",
    "        ...\n",
    "```"
   ]
  },
  {
   "cell_type": "code",
   "execution_count": 13,
   "metadata": {},
   "outputs": [],
   "source": [
    "class SalesMan(Human):\n",
    "    def __init__(self, name, age):\n",
    "        super(SalesMan, self).__init__(name, age)\n",
    "        self.sales = 0\n",
    "\n",
    "    def sale(self, amount):\n",
    "        self.sales += amount\n",
    "        print(f'{amount} 만큼의 매출이 증가했습니다. 총 : {self.sales}')    "
   ]
  },
  {
   "cell_type": "code",
   "execution_count": 14,
   "metadata": {},
   "outputs": [],
   "source": [
    "salesMan1 = SalesMan('이성계', 30)"
   ]
  },
  {
   "cell_type": "code",
   "execution_count": 15,
   "metadata": {},
   "outputs": [
    {
     "data": {
      "text/plain": [
       "0"
      ]
     },
     "execution_count": 15,
     "metadata": {},
     "output_type": "execute_result"
    }
   ],
   "source": [
    "salesMan1.sales"
   ]
  },
  {
   "cell_type": "code",
   "execution_count": 16,
   "metadata": {},
   "outputs": [
    {
     "name": "stdout",
     "output_type": "stream",
     "text": [
      "이성계이 인사를 합니다.\n"
     ]
    }
   ],
   "source": [
    "salesMan1.greet()"
   ]
  },
  {
   "cell_type": "code",
   "execution_count": 19,
   "metadata": {},
   "outputs": [
    {
     "name": "stdout",
     "output_type": "stream",
     "text": [
      "100 만큼의 매출이 증가했습니다. 총 : 300\n"
     ]
    }
   ],
   "source": [
    "salesMan1.sale(100)"
   ]
  },
  {
   "cell_type": "code",
   "execution_count": null,
   "metadata": {},
   "outputs": [],
   "source": [
    "salesMan1 = None"
   ]
  },
  {
   "cell_type": "markdown",
   "metadata": {},
   "source": [
    "##### 메서드 오버로딩과 오버라이딩\n",
    "오버로딩 : 같은 이름의 메서드를 매개변수의 조합을 다르게하여 여러개 정의하는 것, 파이썬에서는 오버로딩을 지원하지 않음  \n",
    "오버라이딩 : 부모 클래스의 메서드를 재정의하는 것"
   ]
  },
  {
   "cell_type": "code",
   "execution_count": 21,
   "metadata": {},
   "outputs": [],
   "source": [
    "class Developer(Human):\n",
    "    def __init__(self, name, age):\n",
    "        super(Developer, self).__init__(name, age)\n",
    "        self.skills = []\n",
    "\n",
    "    def greet(self):\n",
    "        print(f'{self.name}이 안녕하세요! 라며 인사합니다.')"
   ]
  },
  {
   "cell_type": "code",
   "execution_count": 22,
   "metadata": {},
   "outputs": [],
   "source": [
    "developer1 = Developer('이도', 32)"
   ]
  },
  {
   "cell_type": "markdown",
   "metadata": {},
   "source": [
    "##### 특수 메서드\n",
    "파이썬 클래스에서 제공하는 __메서드명__ 형태의 특수한 메서드  \n",
    "```python\n",
    "__repr__(self) # 인스턴스 자체 출력시 표현할 방법\n",
    "__str__(self) # 인스턴스를 문자열로 형변환시 표현할 방법\n",
    "__getitem__(self, key) # 인스턴스를 딕셔너리와 같이 인덱싱 기법을 사용할 수 있도록 하는 방법\n",
    "```"
   ]
  },
  {
   "cell_type": "code",
   "execution_count": 24,
   "metadata": {},
   "outputs": [],
   "source": [
    "class King():\n",
    "    def __init__(self, seq, name, ho):\n",
    "        self.seq = seq\n",
    "        self.name = name\n",
    "        self.ho = ho \n",
    "\n",
    "    def __repr__(self):\n",
    "        return f'King seq : {self.seq} / name : {self.name}  ho : {self.ho}'\n",
    "    \n",
    "    def __str__(self):\n",
    "        return f'왕 순 : {self.seq} / 이름 : {self.name}  묘호 : {self.ho}'\n",
    "    \n",
    "    def __getitem__(self, key):\n",
    "        if key == 'seq':\n",
    "            return self.seq\n",
    "        if key == 'name':\n",
    "            return self.name\n",
    "        if key == 'ho':\n",
    "            return self.ho"
   ]
  },
  {
   "cell_type": "code",
   "execution_count": 26,
   "metadata": {},
   "outputs": [],
   "source": [
    "seajong = King(4, '이도', '세종')"
   ]
  },
  {
   "cell_type": "code",
   "execution_count": 27,
   "metadata": {},
   "outputs": [
    {
     "data": {
      "text/plain": [
       "King seq : 4 / name : 이도  ho : 세종"
      ]
     },
     "execution_count": 27,
     "metadata": {},
     "output_type": "execute_result"
    }
   ],
   "source": [
    "seajong"
   ]
  },
  {
   "cell_type": "code",
   "execution_count": 28,
   "metadata": {},
   "outputs": [
    {
     "data": {
      "text/plain": [
       "'왕 순 : 4 / 이름 : 이도  묘호 : 세종'"
      ]
     },
     "execution_count": 28,
     "metadata": {},
     "output_type": "execute_result"
    }
   ],
   "source": [
    "str(seajong)"
   ]
  },
  {
   "cell_type": "code",
   "execution_count": 30,
   "metadata": {},
   "outputs": [
    {
     "data": {
      "text/plain": [
       "'이도'"
      ]
     },
     "execution_count": 30,
     "metadata": {},
     "output_type": "execute_result"
    }
   ],
   "source": [
    "seajong.name"
   ]
  },
  {
   "cell_type": "code",
   "execution_count": 31,
   "metadata": {},
   "outputs": [
    {
     "data": {
      "text/plain": [
       "'이도'"
      ]
     },
     "execution_count": 31,
     "metadata": {},
     "output_type": "execute_result"
    }
   ],
   "source": [
    "# 유연하게 사용가능 스크립트 언어에서 자주 사용\n",
    "seajong['name']"
   ]
  },
  {
   "cell_type": "code",
   "execution_count": 34,
   "metadata": {},
   "outputs": [
    {
     "data": {
      "text/plain": [
       "'이도'"
      ]
     },
     "execution_count": 34,
     "metadata": {},
     "output_type": "execute_result"
    }
   ],
   "source": [
    "# 유연하게 사용가능 스크립트 언어에서 자주 사용\n",
    "ATTR = input('속성')\n",
    "seajong[ATTR]"
   ]
  }
 ],
 "metadata": {
  "kernelspec": {
   "display_name": "Python 3",
   "language": "python",
   "name": "python3"
  },
  "language_info": {
   "codemirror_mode": {
    "name": "ipython",
    "version": 3
   },
   "file_extension": ".py",
   "mimetype": "text/x-python",
   "name": "python",
   "nbconvert_exporter": "python",
   "pygments_lexer": "ipython3",
   "version": "3.13.1"
  }
 },
 "nbformat": 4,
 "nbformat_minor": 2
}
