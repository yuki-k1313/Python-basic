{
 "cells": [
  {
   "cell_type": "markdown",
   "metadata": {},
   "source": [
    "### 조건문\n",
    "##### if 문\n",
    "```python\n",
    "if 조건 논리표현식:\n",
    "    조건이 참일때 실행할 구문\n",
    "```"
   ]
  },
  {
   "cell_type": "code",
   "execution_count": 13,
   "metadata": {},
   "outputs": [],
   "source": [
    "number = 1234"
   ]
  },
  {
   "cell_type": "code",
   "execution_count": 9,
   "metadata": {},
   "outputs": [
    {
     "name": "stdout",
     "output_type": "stream",
     "text": [
      "짝수\n",
      "종료\n"
     ]
    }
   ],
   "source": [
    "if number % 2 == 0:\n",
    "    print('짝수')\n",
    "    # 같은 코드 영역으로 지정하려면 들여쓰기를 동일하게 지정\n",
    "    print('종료')"
   ]
  },
  {
   "cell_type": "markdown",
   "metadata": {},
   "source": [
    "##### else 문\n",
    "```python\n",
    "if 조건 논리 표현식:\n",
    "    조건이 참일때 실행할 구문\n",
    "else:\n",
    "    조건이 거짓일때 실행할 구문\n",
    "```"
   ]
  },
  {
   "cell_type": "code",
   "execution_count": 12,
   "metadata": {},
   "outputs": [
    {
     "name": "stdout",
     "output_type": "stream",
     "text": [
      "홀수\n"
     ]
    }
   ],
   "source": [
    "if number % 2 == 0:\n",
    "    print('짝수')\n",
    "else:\n",
    "    print('홀수')"
   ]
  },
  {
   "cell_type": "markdown",
   "metadata": {},
   "source": [
    "##### elif 구문\n",
    "```python\n",
    "if 첫번째 조건 논리 표현식:\n",
    "    첫번째 조건이 참일 때 실행할 구문\n",
    "elif 두번째 조건 논리 표현식:\n",
    "    두번째 조건이 참일 때 실행할 구문\n",
    "else:\n",
    "    위의 모든 조건이 거짓일 때 실행할 구문\n",
    "```"
   ]
  },
  {
   "cell_type": "code",
   "execution_count": 14,
   "metadata": {},
   "outputs": [
    {
     "name": "stdout",
     "output_type": "stream",
     "text": [
      "2의 배수\n"
     ]
    }
   ],
   "source": [
    "if number % 3 == 0:\n",
    "    print('3의 배수')\n",
    "elif number % 2 == 0:\n",
    "    print('2의 배수')\n",
    "else:\n",
    "    print('2의 배수나 3의 배수가 아닙니다.')"
   ]
  },
  {
   "cell_type": "markdown",
   "metadata": {},
   "source": [
    "#### 죄수의 딜레마\n",
    "용의자 두 명(A, B)이 체포됨,  \n",
    "심문 중 자백 및 침묵을 권유받음  \n",
    "1. 둘 중 하나만 자백을 하게되면 자백한 사람은 즉시 풀려나고 침묵한 사람은 10년형\n",
    "2. 둘 다 자백을 하면 모두 5년형\n",
    "3. 둘 다 침묵을 하면 모두 1년형\n",
    "이때 죄수의 선택을 나태내는 변수 XA, XB와 죄수의 복역 연수를 나타내는 변수 YA, YB라 할때  \n",
    "XA와 XB를 입력을 받고 YA와 YB를 'A의 복역 연수: 10, B의 복역 연수: 0' 형태로 출력하시오."
   ]
  },
  {
   "cell_type": "code",
   "execution_count": 39,
   "metadata": {},
   "outputs": [
    {
     "name": "stdout",
     "output_type": "stream",
     "text": [
      "A의 복역연수 : 0 B의 복역연수 : 10\n"
     ]
    }
   ],
   "source": [
    "XA = input('A의 선택') == '자백'\n",
    "XB = input('B의 선택') == '자백'\n",
    "YA, YB = 0, 0\n",
    "\n",
    "if XA and XB:\n",
    "    YA, YB = 5, 5\n",
    "elif XA and not XB:\n",
    "    YA, YB = 0, 10\n",
    "elif not XA and XB:\n",
    "    YA, YB = 10, 0\n",
    "else:\n",
    "    YA, YB = 1, 1\n",
    "    \n",
    "\n",
    "print(f'A의 복역연수 : {YA} B의 복역연수 : {YB}')"
   ]
  },
  {
   "cell_type": "markdown",
   "metadata": {},
   "source": [
    "### 반복문\n",
    "```python\n",
    "for 변수 in range(반복횟수):\n",
    "    반복할 구문\n",
    "```\n",
    "  \n",
    "- range(정수) : 0부터 매개변수로 전달할 정수-1 까지의 정수 리스트를 반환\n",
    "- range(시작정수, 종료정수) : 시작 정수부터 종료 정수-1 까지의 정수 리스트를 반환\n",
    "- range(시작정수, 종료정수, 차이정수) : 시작 정수부터 종료 정수-1 까지의 정수 리스트를 반환 차이가 차이 정수 만큼인 정수 리스트 반환"
   ]
  },
  {
   "cell_type": "code",
   "execution_count": 48,
   "metadata": {},
   "outputs": [
    {
     "data": {
      "text/plain": [
       "[0, 1, 2, 3, 4]"
      ]
     },
     "execution_count": 48,
     "metadata": {},
     "output_type": "execute_result"
    }
   ],
   "source": [
    "list(range(5))"
   ]
  },
  {
   "cell_type": "code",
   "execution_count": 40,
   "metadata": {},
   "outputs": [
    {
     "data": {
      "text/plain": [
       "[5, 6, 7, 8, 9]"
      ]
     },
     "execution_count": 40,
     "metadata": {},
     "output_type": "execute_result"
    }
   ],
   "source": [
    "list(range(5, 10))"
   ]
  },
  {
   "cell_type": "code",
   "execution_count": 42,
   "metadata": {},
   "outputs": [
    {
     "data": {
      "text/plain": [
       "[5, 3, 1, -1, -3]"
      ]
     },
     "execution_count": 42,
     "metadata": {},
     "output_type": "execute_result"
    }
   ],
   "source": [
    "list(range(5, -5, -2))"
   ]
  },
  {
   "cell_type": "code",
   "execution_count": 47,
   "metadata": {},
   "outputs": [
    {
     "name": "stdout",
     "output_type": "stream",
     "text": [
      "0\n",
      "1\n",
      "2\n",
      "3\n",
      "4\n"
     ]
    }
   ],
   "source": [
    "for item in range(5):\n",
    "    print(item)"
   ]
  },
  {
   "cell_type": "code",
   "execution_count": 49,
   "metadata": {},
   "outputs": [
    {
     "name": "stdout",
     "output_type": "stream",
     "text": [
      "10\n",
      "9\n",
      "8\n",
      "7\n",
      "6\n",
      "5\n",
      "4\n",
      "3\n",
      "2\n",
      "1\n"
     ]
    }
   ],
   "source": [
    "for item in range(10, 0, -1):\n",
    "    print(item)"
   ]
  },
  {
   "cell_type": "code",
   "execution_count": 52,
   "metadata": {},
   "outputs": [
    {
     "name": "stdout",
     "output_type": "stream",
     "text": [
      "item1 : 0 / item2 : 0\n",
      "item1 : 0 / item2 : 1\n",
      "item1 : 0 / item2 : 2\n",
      "item1 : 0 / item2 : 3\n",
      "item1 : 1 / item2 : 0\n",
      "item1 : 1 / item2 : 1\n",
      "item1 : 1 / item2 : 2\n",
      "item1 : 1 / item2 : 3\n",
      "item1 : 2 / item2 : 0\n",
      "item1 : 2 / item2 : 1\n",
      "item1 : 2 / item2 : 2\n",
      "item1 : 2 / item2 : 3\n"
     ]
    }
   ],
   "source": [
    "for item1 in range(3):\n",
    "    for item2 in range(4):\n",
    "        print(f'item1 : {item1} / item2 : {item2}')"
   ]
  },
  {
   "cell_type": "markdown",
   "metadata": {},
   "source": [
    "#### 삼각형 그리기  \n",
    "\n",
    "1.  \n",
    "@  \n",
    "@@  \n",
    "@@@  \n",
    "@@@@  \n",
    "@@@@@  \n",
    "@@@@@@  \n",
    "@@@@@@@  \n",
    "@@@@@@@@  \n",
    "@@@@@@@@@  \n",
    "@@@@@@@@@@  \n",
    "\n",
    "2.  \n",
    "@@@@@@@@@@  \n",
    "@@@@@@@@@  \n",
    "@@@@@@@@  \n",
    "@@@@@@@  \n",
    "@@@@@@  \n",
    "@@@@@  \n",
    "@@@@  \n",
    "@@@  \n",
    "@@  \n",
    "@  \n",
    "  \n",
    "3.  \n",
    "@  \n",
    "@@  \n",
    "@@@  \n",
    "@@@@  \n",
    "@@@@@  \n",
    "@@@@@@  \n",
    "@@@@@  \n",
    "@@@@  \n",
    "@@@  \n",
    "@@  \n",
    "@  \n"
   ]
  },
  {
   "cell_type": "code",
   "execution_count": 57,
   "metadata": {},
   "outputs": [
    {
     "name": "stdout",
     "output_type": "stream",
     "text": [
      "@\n",
      "@@\n",
      "@@@\n",
      "@@@@\n",
      "@@@@@\n",
      "@@@@@@\n",
      "@@@@@@@\n",
      "@@@@@@@@\n",
      "@@@@@@@@@\n",
      "@@@@@@@@@@\n"
     ]
    }
   ],
   "source": [
    "TOTAL_COUNT, START, CHARACTER = 11, 1, '@'\n",
    "\n",
    "for count in range(START, TOTAL_COUNT):\n",
    "    print(CHARACTER * count)"
   ]
  },
  {
   "cell_type": "code",
   "execution_count": 69,
   "metadata": {},
   "outputs": [
    {
     "name": "stdout",
     "output_type": "stream",
     "text": [
      "@@@@@@@@@@\n",
      "@@@@@@@@@\n",
      "@@@@@@@@\n",
      "@@@@@@@\n",
      "@@@@@@\n",
      "@@@@@\n",
      "@@@@\n",
      "@@@\n",
      "@@\n",
      "@\n"
     ]
    }
   ],
   "source": [
    "START, END, GAP, CHARACTER = 10, 0, -1, '@'\n",
    "\n",
    "for count in range(START, END, GAP):\n",
    "    print(CHARACTER * count)"
   ]
  },
  {
   "cell_type": "code",
   "execution_count": 74,
   "metadata": {},
   "outputs": [
    {
     "name": "stdout",
     "output_type": "stream",
     "text": [
      "@\n",
      "@@\n",
      "@@@\n",
      "@@@@\n",
      "@@@@@\n",
      "@@@@@@\n",
      "@@@@@\n",
      "@@@@\n",
      "@@@\n",
      "@@\n",
      "@\n"
     ]
    }
   ],
   "source": [
    "START, END, GAP, CHARACTER = 1, 12, -1, '@'\n",
    "\n",
    "for count in range(START, END):\n",
    "    if count <= (END / 2):\n",
    "        print(CHARACTER * count)\n",
    "    else:\n",
    "        print(CHARACTER * (END - count))"
   ]
  }
 ],
 "metadata": {
  "kernelspec": {
   "display_name": "Python 3",
   "language": "python",
   "name": "python3"
  },
  "language_info": {
   "codemirror_mode": {
    "name": "ipython",
    "version": 3
   },
   "file_extension": ".py",
   "mimetype": "text/x-python",
   "name": "python",
   "nbconvert_exporter": "python",
   "pygments_lexer": "ipython3",
   "version": "3.13.1"
  }
 },
 "nbformat": 4,
 "nbformat_minor": 2
}
